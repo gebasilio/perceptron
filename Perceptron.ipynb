{
 "cells": [
  {
   "cell_type": "markdown",
   "metadata": {},
   "source": [
    "# Introducción a Redes Neuronales\n",
    "\n",
    "* Las redes neuronales son un enfoque computacional, que se basa en una gran colección de unidades neurales, para modelar libremente la forma en que un cerebro biológico resuelve problemas con grandes grupos de neuronas biológicas conectados por los axones.\n",
    "\n",
    "* Hay distintos tipos de modelos de neuronas.\n",
    "\n",
    "* Hay distintos tipos de interconexión.\n",
    "\n",
    "* Hay distintos tipos de métodos de aprendizaje."
   ]
  },
  {
   "cell_type": "markdown",
   "metadata": {},
   "source": [
    "* Tolerancia a fallas: muerte celular a diario\n",
    "* Versátil y flexible: se maneja el concepto de aprendizaje y no programación. El proceso de aprendizaje se adapta mejor a cambios de contexto.\n",
    "* Puede lidiar con información borrosa, estocástica, ruidosa o inconsistente.\n",
    "* Procesamiento muy fuertemente paralelo.\n",
    "* Muy alto nivel de integración, con un mínimo consumo de energía.\n",
    "* Una computadora solo supera al cerebro en tareas basadas en aritmética simple (suma, multiplicación, comparación).\n",
    "* Un microprocesador I7 tiene aproximadamente  compuertas funcionando con un clock de 3Ghz.\n",
    "El cerebro humano tiene aproximadamente $10^9$neuronas pero actualización de una neurona está en el orden de los milisengundos.\n",
    "\n",
    "## Inspiración en neurociencia\n",
    "\n",
    "Una neurona:\n",
    "\n",
    "<img src=\"neurona.png\" alt=\"neurona\">\n",
    "\n",
    "* El axón se bifurca y dichas bifurcaciones se conectan a las dendritas de otras miles de neuronas.\n",
    "* La trasmisión de la señal del axón a las dendritas es un proceso químico complejo.\n",
    "* Como producto de este proceso químico el potencial eléctrico dentro de la neurona receptora puede aumentar o disminuir. \n",
    "* Si dicho potencial está por encima de un umbral, la neurona se dispara y presenta un estímulo eléctrico en su axón.\n",
    "\n",
    "Implementación del modelo:\n",
    "\n",
    "<img src=\"perceptron.png\" alt=\"perceptron\">\n",
    "\n",
    "En 1943 McCulloch y Pitts propusieron un modelo sencillo de neurona, que modela el comportamiento anteriormente descripto:\n",
    "\n",
    "$$ \\eta_i(t+1)=\\theta(\\sum_j w_{ij}\\eta_j(t)-\\mu_i) $$\n",
    "\n",
    "Donde:\n",
    "\n",
    "* i corresponde a la neurona de salida.\n",
    "* J corresponde a las neuronas de entrada.\n",
    "* $w_{ij}$ modela el comportamiento de la dendrita que conecta a la neurona i con el axón de la neurona J\n",
    "* $\\eta_j(i)$ es el estado de activación de la neurona J, el cual es transmitido a través de su axón.\n",
    "* $\\mu_i$ es el umbral de activación de la neurona i.\n",
    "* $\\theta(x)$ es la función de activación de la neurona i y está definida como:\n",
    "\n",
    "$$ \\eta(x) =\n",
    "\\left\\{\n",
    "\t\\begin{array}{ll}\n",
    "\t\t1  & \\mbox{si } x \\geq 0 \\\\\n",
    "\t\t0 & \\mbox{si } x < 0\n",
    "\t\\end{array}\n",
    "\\right. $$\n",
    "\n",
    "*McCulloch y Pitts demostraron que una red de esas neuronas es capaz de resolver los mismos problemas que una máquina de Von Neumann, para un conjunto de  dados, aunque en muchos casos mas lentamente.\n",
    "\n",
    "Diferencia con las neuronaes reales:\n",
    "\n",
    "* La función de activación es continua y alineal.\n",
    "* La sumatoria es una función de acumulación no lineal.\n",
    "* Una neurona real produce un tren de pulsos, no un valor fijo en el tiempo.\n",
    "* El tiempo de procesamiento de las distintas neuronas es distinto y su actualización no es sincrónica. Veremos mas adelante ejemplos de procesamiento asincrónico.\n",
    "* El potencial entregado por el axón, puede variar estocásticamente. Esto será modelado mas adelante utilizando funciones de activación estocásticas. \n",
    "* Estas diferencias explican por qué son modelos matemáticos inspirados en neurociencia y no es un modelo del cerebro completo.\n",
    "\n"
   ]
  },
  {
   "cell_type": "markdown",
   "metadata": {},
   "source": [
    "Hasta ahora hemos elegido los pesos de la red (modelo) calculandolos a priori y luego pusimos a procesar los datos de entrada. Este enfoque no es práctico ya que puede involucrar mucho cálculo a priori.\n",
    "Otra posibilidad es entrenar a la red en forma iterativa en la cual los  pueden ser ajustados en cada iteración. En el caso de las redes neuronales decimos que la red está aprendiendo la tarea.\n",
    "La idea es comparar la salida obtenida con una salida deseada y modificar los pesos para que el error disminuya.\n",
    "Las modificaciones en los pesos serán pequeños de forma que el error entre la salida obtenida y la deseada disminuya un poco, esperando que a través de ese mecanismo los pesos converjan a una solución.\n",
    "\n",
    "## Redes Feedforward\n",
    "\n",
    "<img src=\"redff.jpg\" alt=\"redff\">\n",
    "\n",
    "La unidad fundamental de la red FF es el perceptrón simple, que estudiaremos a continuación.\n",
    "\n",
    "En general, este tipo de redes pueden implementar memorias heteroasociativas (en las cuales los patrones de entrada  son distintos a los patrones de salida).\n",
    "Un caso particular de la memoria heteroasociativa es el problema de clasificación en el cual a un patrón de entrada  le corresponde una clase determinada.\n",
    "Se puede demostrar para perceptrones simples que si existe un conjunto de pesos que solucionan el problema planteado, los podremos encontrar de forma sencilla.\n",
    "Sin embargo hay una gran cantidad de problemas que no pueden ser solucionados con una red de una sola capa, por eso estudiaremos sus posibilidades y sus limitaciones y mas adelante veremos como expandir estas posibilidades con el uso de una red multicapa.\n",
    "\n",
    "## Función de activación signo\n",
    "\n",
    "Con este tipo de función de activación la salida puede valer {+1,-1}, por lo tanto los vectores de salida deseada deben estar compuestos de valores {-1,+1}.\n",
    "Queremos que se cumpla:\n",
    "\n",
    "$$sgn(\\mathbf{w.\\xi_\\mu})=\\zeta^\\mu $$\n",
    "\n",
    "Para todo $\\mu$.\n",
    "La función $sgn(\\mathbf{w.\\xi_\\mu})$ dará +1 a la salida si la proyección del vector $\\xi_\\mu$ sobre $\\mathbf{w}$ es positiva, y -1 en caso contrario.  \n",
    "El límite entre proyecciones positivas y negativas sobre $\\mathbf{w}$ está dado por la condición: $\\mathbf{w.\\xi_\\mu}=0$.  \n",
    "Por lo que la condición para que el perceptrón opere correctamente es que los pesos $\\mathbf{w}$, determinen un hiperplano que divida en dos el espacio vectorial de entradas, de forma que de un lado queden los vectores cuya salida es +1 y del otro los vectores cuya salida es -1.\n",
    "\n",
    "La siguiente figura muestra un ejemplo:\n",
    "\n",
    "<img src=\"sgn_func.png\" alt=\"sgn\">"
   ]
  },
  {
   "cell_type": "markdown",
   "metadata": {},
   "source": [
    "En la figura de la derecha se muestra una representación alternativa, la cual está dada por:\n",
    "\n",
    "$$x_k^\\mu \\equiv \\zeta^\\mu \\xi_k^\\mu$$\n",
    "\n",
    "o bien\n",
    "\n",
    "$$\\mathbf{x}^\\mu \\equiv \\zeta^\\mu \\mathbf{\\hat\\xi}^\\mu$$\n",
    "\n",
    "Lo cual traforma la condición (5.5) en:\n",
    "\n",
    "$$\\mathbf{w.x^\\mu}>0$$\n",
    "\n",
    "Lo cual significa que todos los vectores , deben estar del mismo lado del hiperplano perpendicular al vector w, para que el perceptrón funcione correctamente.\n",
    "\n",
    "## Separabilidad lineal\n",
    "\n",
    "* Si ese plano no existe, entonces el problema no puede ser resuelto.\n",
    "* Si ese plano existe, se dice que el problema es **linealmente separable**.\n",
    "* Si la unidad tiene un threshold:\n",
    "\n",
    "$$O_i=sgn(\\sum_k>0 w_{ij} \\xi_k -w_ {io})$$\n",
    "\n",
    "Entonces el hiperplano que divide el espacio vectorial en dos es:\n",
    "\n",
    "$$ \\mathbf{w.\\hat\\xi}=w_o$$\n",
    "\n",
    "Por lo que agregar un bias o threshold nos permite que el hiperplano no pase necesariamente por el origen.\n",
    "\n",
    "* Ejemplo AND:\n",
    "\n",
    "<img src=\"and1.png\" alt=\"sgn\"><img src=\"and2.png\" alt=\"sgn\">\n",
    "\n",
    "* Ejemplo XOR:\n",
    "\n",
    "<img src=\"xor1.png\" alt=\"sgn\"><img src=\"xor2.png\" alt=\"sgn\">\n",
    "\n"
   ]
  },
  {
   "cell_type": "markdown",
   "metadata": {},
   "source": [
    "## Algoritmo de aprendizaje\n",
    "\n",
    "Para este tipo de problemas un algoritmo de aprendizaje posible es:\n",
    "\n",
    "$$w(t+1)_{ik}=w(t)_{ik} + \\Delta w_{ik}$$ \n",
    "\n",
    "$$ \\Delta w_{ik} =\n",
    "\\left\\{\n",
    "\t\\begin{array}{ll}\n",
    "\t\t2 \\eta \\zeta_i^\\mu \\xi_k^\\mu  & \\mbox{si } \\zeta_i^\\mu \\neq O_i^\\mu \\\\\n",
    "\t\t0 & \\mbox{caso contrario } \n",
    "\t\\end{array}\n",
    "    \\right. $$\n",
    "    \n",
    "\n",
    "\n"
   ]
  },
  {
   "cell_type": "code",
   "execution_count": 146,
   "metadata": {},
   "outputs": [
    {
     "data": {
      "image/png": "[encoded data removed]",
      "text/plain": [
       "<matplotlib.figure.Figure at 0x7f0eb9259fd0>"
      ]
     },
     "metadata": {},
     "output_type": "display_data"
    }
   ],
   "source": [
    "import numpy as np\n",
    "import matplotlib.pyplot as plt\n",
    "from sklearn import datasets\n",
    "from sklearn.linear_model import SGDClassifier, Perceptron\n",
    "x=np.array([[-1,-1],[-1,1],[1,-1],[1,1]])\n",
    "y=np.array([-1,-1,-1,1])\n",
    "clf=Perceptron()\n",
    "clf.fit(x,y)\n",
    "y_pred=clf.predict(x)\n",
    "y_pred\n",
    "i=np.array([-2,3])\n",
    "j=- clf.intercept_/clf.coef_[0,1] - i * clf.coef_[0,0]/clf.coef_[0,1]\n",
    "plt.scatter(x[:, 0], x[:, 1], marker='o', c=y,\n",
    "            s=50, edgecolor='k')\n",
    "plt.plot(i,j)\n",
    "plt.title(\"Compuerta AND\")\n",
    "plt.show()"
   ]
  },
  {
   "cell_type": "markdown",
   "metadata": {},
   "source": [
    "Se puede ver la documentación de esta herramienta [acá](http://scikit-learn.org/stable/modules/generated/sklearn.linear_model.Perceptron.html#sklearn.linear_model.Perceptron)\n",
    "\n",
    "Notar la siguiente línea:\n",
    "\n",
    "`Perceptron` and `SGDClassifier` share the same underlying implementation.\n",
    "In fact, `Perceptron()` is equivalent to `SGDClassifier(loss=\"perceptron\", eta0=1, learning_rate=\"constant\", penalty=None)`."
   ]
  },
  {
   "cell_type": "markdown",
   "metadata": {},
   "source": [
    "## Redes Multicapa\n",
    "\n",
    "Ver 'Redes Multicapa (Lab ML).pdf'"
   ]
  },
  {
   "cell_type": "code",
   "execution_count": null,
   "metadata": {
    "collapsed": true
   },
   "outputs": [],
   "source": []
  }
 ],
 "metadata": {
  "kernelspec": {
   "display_name": "Python 3",
   "language": "python",
   "name": "python3"
  },
  "language_info": {
   "codemirror_mode": {
    "name": "ipython",
    "version": 3
   },
   "file_extension": ".py",
   "mimetype": "text/x-python",
   "name": "python",
   "nbconvert_exporter": "python",
   "pygments_lexer": "ipython3",
   "version": "3.6.1"
  }
 },
 "nbformat": 4,
 "nbformat_minor": 2
}
