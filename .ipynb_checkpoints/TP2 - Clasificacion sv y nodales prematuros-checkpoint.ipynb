{
 "cells": [
  {
   "cell_type": "code",
   "execution_count": 1,
   "metadata": {
    "collapsed": true
   },
   "outputs": [],
   "source": [
    "import wfdb\n",
    "import numpy as np\n",
    "import os\n",
    "import matplotlib.pyplot as plt\n",
    "from sklearn import decomposition\n",
    "from scipy.signal import butter, lfilter, freqz, medfilt\n",
    "import sklearn.neural_network as snn\n",
    "from sklearn.metrics import confusion_matrix\n",
    "import itertools\n",
    "import copy\n",
    "from IPython.display import display\n",
    "from sklearn.externals import joblib\n",
    "from sklearn.discriminant_analysis import LinearDiscriminantAnalysis"
   ]
  },
  {
   "cell_type": "code",
   "execution_count": 2,
   "metadata": {},
   "outputs": [
    {
     "name": "stdout",
     "output_type": "stream",
     "text": [
      "Fetching data...\n",
      "Data fetched!\n"
     ]
    }
   ],
   "source": [
    "print('Fetching data...')\n",
    "signals2, fields2=wfdb.srdsamp('14172', channels=[0,1], pbdir = 'ltdb') \n",
    "annotation = wfdb.rdann('14172', 'atr', pbdir = 'ltdb')\n",
    "print('Data fetched!')\n"
   ]
  },
  {
   "cell_type": "code",
   "execution_count": 4,
   "metadata": {
    "collapsed": true
   },
   "outputs": [],
   "source": [
    "#Me quedo con los picos de cada ECG que es donde están las anotaciones\n",
    "picos=copy.copy(annotation.annsamp)\n",
    "clasificacion=copy.copy(annotation.anntype)\n",
    "\n",
    "#Transpongo las señales leídas para poder operar mas comodamente\n",
    "signals=np.matrix.transpose(copy.copy(signals2))\n",
    "\n",
    "#Descarto picos que no me interesan\n",
    "fs = 128\n",
    "tam=64 #Tamaño del latido que tomo a la izquierda y a la derecha de la anotación\n",
    "threshold = 5*60*fs #los picos iniciales menores a 5 minutos se descartan\n",
    "\n",
    "for j in range(len(picos))[::-1]:\n",
    "    if clasificacion[j] in ['~', 'F', 'a', 'V']:\n",
    "        del clasificacion[j]\n",
    "        picos = np.delete(picos, j)\n",
    "        \n",
    "picos[-1]=0 #descarto el último pico por si el latido está interrumpido\n",
    "picos = picos[picos > tam + threshold]\n",
    "clasificacion = clasificacion[len(clasificacion)-len(picos)-1:len(clasificacion)-1]\n",
    "        "
   ]
  },
  {
   "cell_type": "code",
   "execution_count": 5,
   "metadata": {
    "collapsed": true,
    "scrolled": true
   },
   "outputs": [],
   "source": [
    "#fs = 128\n",
    "order = 8\n",
    "cutoff = 0.5 # 10 MHz\n",
    "b, a = butter(order, cutoff / (fs / 2), btype='high')\n",
    "signals[0] = lfilter(b, a, signals[0])\n",
    "signals[1] = lfilter(b, a, signals[1])\n",
    "\n",
    "order = 12\n",
    "cutoff = 35 # 10 MHz\n",
    "b, a = butter(order, cutoff / (fs / 2), btype='low')\n",
    "signals[0] = lfilter(b, a, signals[0])\n",
    "signals[1] = lfilter(b, a, signals[1])\n"
   ]
  },
  {
   "cell_type": "code",
   "execution_count": 6,
   "metadata": {
    "collapsed": true
   },
   "outputs": [],
   "source": [
    "latidos=np.zeros([len(picos),4*tam]) #Reservo espacio para la matriz de datos cantLatidos x 2*tam\n",
    "for i in range(len(picos)):\n",
    "    channel0 = signals[0,picos[i]-tam:picos[i]+tam]\n",
    "    channel1 = signals[1,picos[i]-tam:picos[i]+tam]\n",
    "    latidos[i]= np.concatenate((channel0, channel1), axis=0) #tomo tam muestras a la izquerda y a la derecha de la anotación\n",
    "\n",
    "# A continuación calculo la media y la varianza de cada elemento del vector de datos para poder normalizar cada dato\n",
    "latidos=np.matrix.transpose(latidos)\n",
    "medias=latidos.mean(axis=1)\n",
    "desv=latidos.std(axis=1)\n",
    "\n",
    "componentes_normalizados = [(latidos[i,:]-medias[i])/desv[i] for i in range(latidos.shape[0])]\n",
    "componentes_normalizados=np.matrix.transpose(np.array(componentes_normalizados))\n"
   ]
  },
  {
   "cell_type": "code",
   "execution_count": 8,
   "metadata": {
    "collapsed": true
   },
   "outputs": [],
   "source": [
    "# Igualo proporciones\n",
    "sv_factor = 100\n",
    "n_factor = 20\n",
    "pca_latidos = [] #Reservo espacio para la matriz de datos cantLatidos x 2*tam\n",
    "for i in range(len(picos)):\n",
    "    channel0 = signals[0,picos[i]-tam:picos[i]+tam]\n",
    "    channel1 = signals[1,picos[i]-tam:picos[i]+tam]\n",
    "    if clasificacion[i] == 'J':\n",
    "        pca_latidos.extend(np.tile(np.concatenate((channel0, channel1), axis=0), (sv_factor, 1))) #tomo tam muestras a la izquerda y a la derecha de la anotación\n",
    "    elif clasificacion[i] == 'S':\n",
    "        pca_latidos.extend(np.tile(np.concatenate((channel0, channel1), axis=0), (n_factor, 1))) #tomo tam muestras a la izquerda y a la derecha de la anotación\n",
    "    else:\n",
    "        pca_latidos.append(np.concatenate((channel0, channel1), axis=0)) #tomo tam muestras a la izquerda y a la derecha de la anotación\n",
    "\n",
    "pca_latidos = np.array(pca_latidos)                              \n",
    "# A continuación calculo la media y la varianza de cada elemento del vector de datos para poder normalizar cada dato\n",
    "pca_latidos=np.matrix.transpose(pca_latidos)\n",
    "medias2=pca_latidos.mean(axis=1)\n",
    "desv2=pca_latidos.std(axis=1)\n",
    "\n",
    "componentes_normalizados2 = [(pca_latidos[i,:]-medias2[i])/desv2[i] for i in range(pca_latidos.shape[0])]\n",
    "componentes_normalizados2=np.matrix.transpose(np.array(componentes_normalizados2))"
   ]
  },
  {
   "cell_type": "code",
   "execution_count": 9,
   "metadata": {},
   "outputs": [
    {
     "name": "stdout",
     "output_type": "stream",
     "text": [
      "Varianza explicada por los primeros 20 componentes:\n",
      "[ 0.2536383   0.17472159  0.1245319   0.07917729  0.04944518  0.03682826\n",
      "  0.02928363  0.02429799  0.02193807  0.01607989  0.0148455   0.01401921\n",
      "  0.01267937  0.01080403  0.00984182  0.00842844  0.00736974  0.00693029\n",
      "  0.00586663  0.005223  ]\n",
      "Total: 0.90595011752\n",
      "(59231, 20)\n",
      "Done.\n"
     ]
    }
   ],
   "source": [
    "components = 20\n",
    "\n",
    "pca = decomposition.PCA(n_components=components)\n",
    "pca.fit(componentes_normalizados2)\n",
    "res = pca.transform(componentes_normalizados)\n",
    "#res = pca.fit_transform(componentes_normalizados)\n",
    "print('Varianza explicada por los primeros', str(components), 'componentes:')\n",
    "print(pca.explained_variance_ratio_)\n",
    "print('Total:', sum(pca.explained_variance_ratio_))\n",
    "recon = pca.inverse_transform(res)\n",
    "print(res.shape)\n",
    "print('Done.')"
   ]
  },
  {
   "cell_type": "code",
   "execution_count": 10,
   "metadata": {
    "collapsed": true
   },
   "outputs": [],
   "source": [
    "components = 4\n",
    "lda = LinearDiscriminantAnalysis(n_components=components)\n",
    "res = lda.fit(res, clasificacion).transform(res)"
   ]
  },
  {
   "cell_type": "code",
   "execution_count": null,
   "metadata": {
    "collapsed": true
   },
   "outputs": [],
   "source": []
  },
  {
   "cell_type": "code",
   "execution_count": 11,
   "metadata": {},
   "outputs": [
    {
     "data": {
      "image/png": "[encoded data removed]",
      "text/plain": [
       "<matplotlib.figure.Figure at 0x10e7a8a58>"
      ]
     },
     "metadata": {},
     "output_type": "display_data"
    }
   ],
   "source": [
    "colors = ['navy', 'turquoise', 'darkorange']\n",
    "res_N = np.array([res[j] for j in range(len(res)) if clasificacion[j]=='N'])\n",
    "res_J = np.array([res[j] for j in range(len(res)) if clasificacion[j]=='J'])\n",
    "res_S = np.array([res[j] for j in range(len(res)) if clasificacion[j]=='S'])\n",
    "plt.scatter(res_N[:, 0], res_N[:, 1], alpha=.5, color=colors[0]) \n",
    "plt.scatter(res_J[:, 0], res_J[:, 1], alpha=.5, color=colors[1]) \n",
    "plt.scatter(res_S[:, 0], res_S[:, 1], alpha=.5, color=colors[2]) \n",
    "plt.title('LDA of 20 PCA ECG')\n",
    "\n",
    "plt.show()\n"
   ]
  },
  {
   "cell_type": "code",
   "execution_count": null,
   "metadata": {
    "collapsed": true
   },
   "outputs": [],
   "source": []
  },
  {
   "cell_type": "code",
   "execution_count": null,
   "metadata": {
    "collapsed": true
   },
   "outputs": [],
   "source": []
  },
  {
   "cell_type": "code",
   "execution_count": 12,
   "metadata": {},
   "outputs": [
    {
     "data": {
      "image/png": "[encoded data removed]",
      "text/plain": [
       "<matplotlib.figure.Figure at 0x115e1c940>"
      ]
     },
     "metadata": {},
     "output_type": "display_data"
    }
   ],
   "source": [
    "i = 190 # S\n",
    "i = 4007 # J\n",
    "latido_reconstruido_i = recon[i]\n",
    "latido_reconstruido_i = [latido_reconstruido_i[k]*desv[k]+medias[k] for k in range(len(latido_reconstruido_i))]\n",
    "latido_i = [latidos[component,i] for component in range(latidos.shape[0])]\n",
    "\n",
    "fig, ax = plt.subplots(nrows=1,ncols=2)\n",
    "\n",
    "plt.subplot(1,2,1)\n",
    "plt.plot(latido_reconstruido_i[:2*tam])\n",
    "plt.plot(latido_i[:2*tam])\n",
    "\n",
    "plt.subplot(1,2,2)\n",
    "plt.plot(latido_reconstruido_i[2*tam:4*tam])\n",
    "plt.plot(latido_i[2*tam:4*tam])\n",
    "\n",
    "plt.show()\n"
   ]
  },
  {
   "cell_type": "code",
   "execution_count": 13,
   "metadata": {},
   "outputs": [
    {
     "name": "stdout",
     "output_type": "stream",
     "text": [
      "Training size per classification\n",
      "Normales: 34866 / 58110\n",
      "Supraventriculares prematuros: 72 / 120\n",
      "Nodales prematuros: 600 / 1001\n"
     ]
    }
   ],
   "source": [
    "### Select training and testing samples ###\n",
    "# Separate heartbeats by classification\n",
    "picos_normales = []\n",
    "picos_sv_prematuros = []\n",
    "picos_n_prematuros = []\n",
    "for j in range(len(picos)):\n",
    "    if clasificacion[j] == 'J':\n",
    "        picos_sv_prematuros.append(res[j])\n",
    "    elif clasificacion[j] == 'N':\n",
    "        picos_normales.append(res[j])\n",
    "    elif clasificacion[j] == 'S':\n",
    "        picos_n_prematuros.append(res[j])\n",
    "\n",
    "# Training sample size (proportion)\n",
    "training_sample_proportion = 0.6 # 60%\n",
    "training_sample_size_normales = int(training_sample_proportion * len(picos_normales))\n",
    "training_sample_size_sv_prematuros = int(training_sample_proportion * len(picos_sv_prematuros))\n",
    "training_sample_size_n_prematuros = int(training_sample_proportion * len(picos_n_prematuros))\n",
    "\n",
    "# Training and Test arrays\n",
    "training_data = np.concatenate((np.array(picos_normales[:training_sample_size_normales]), \n",
    "                                np.tile(np.array(picos_sv_prematuros[:training_sample_size_sv_prematuros]), (500,1)), \n",
    "                                np.tile(np.array(picos_n_prematuros[:training_sample_size_n_prematuros]), (60,1))))\n",
    "training_classification = np.concatenate((np.array(['N'] * training_sample_size_normales),\n",
    "                                          np.array(['J'] * (training_sample_size_sv_prematuros * 500)),\n",
    "                                          np.array(['S'] * (training_sample_size_n_prematuros * 60))))\n",
    "\n",
    "test_data = np.concatenate((np.array(picos_normales[training_sample_size_normales:]), \n",
    "                            np.array(picos_sv_prematuros[training_sample_size_sv_prematuros:]), \n",
    "                            np.array(picos_n_prematuros[training_sample_size_n_prematuros:])))\n",
    "test_classification = np.concatenate((np.array(['N'] * (len(picos_normales)-training_sample_size_normales)),\n",
    "                                      np.array(['J'] * (len(picos_sv_prematuros)-training_sample_size_sv_prematuros)), \n",
    "                                      np.array(['S'] * (len(picos_n_prematuros)-training_sample_size_n_prematuros))))\n",
    "\n",
    "\n",
    "# prints\n",
    "print('Training size per classification')\n",
    "print('Normales:', training_sample_size_normales, '/', len(picos_normales))\n",
    "print('Supraventriculares prematuros:', training_sample_size_sv_prematuros, '/', len(picos_sv_prematuros))\n",
    "print('Nodales prematuros:', training_sample_size_n_prematuros, '/', len(picos_n_prematuros))\n"
   ]
  },
  {
   "cell_type": "code",
   "execution_count": null,
   "metadata": {
    "collapsed": true
   },
   "outputs": [],
   "source": []
  },
  {
   "cell_type": "code",
   "execution_count": 14,
   "metadata": {
    "collapsed": true
   },
   "outputs": [],
   "source": [
    "classifier = snn.MLPClassifier(int((components//1.5)), early_stopping=True, validation_fraction=0.1, \n",
    "                               activation='tanh', learning_rate='adaptive', learning_rate_init=0.001)\n",
    "#classifier = snn.MLPClassifier((components, int(components//1.5)), early_stopping=True, validation_fraction=0.1, \n",
    "#                               activation='tanh', learning_rate='adaptive', learning_rate_init=0.01)\n",
    "\n",
    "classifier.fit(training_data, training_classification)\n",
    "test_prediction = classifier.predict(test_data)"
   ]
  },
  {
   "cell_type": "code",
   "execution_count": 15,
   "metadata": {},
   "outputs": [
    {
     "name": "stdout",
     "output_type": "stream",
     "text": [
      "Normales: 99.1438650834624%\n",
      "Supraventriculares prematuros: 77.08333333333334%\n",
      "Nodales prematuros: 63.092269326683294%\n"
     ]
    }
   ],
   "source": [
    "normales = 'N'\n",
    "s_ventriculares = 'J'\n",
    "nodales = 'S'\n",
    "\n",
    "pnormal = [test_prediction[j]==normales for j in range(len(test_prediction)) if test_classification[j]==normales]\n",
    "normal_verdaderos_positivos = sum(pnormal)/len(pnormal)\n",
    "print('Normales:',str(100*normal_verdaderos_positivos) + '%')\n",
    "\n",
    "psv = [test_prediction[j]==s_ventriculares for j in range(len(test_prediction)) if test_classification[j]==s_ventriculares]\n",
    "s_ventricular_verdaderos_positivos = sum(psv)/len(psv)\n",
    "print('Supraventriculares prematuros:',str(100*s_ventricular_verdaderos_positivos) + '%')\n",
    "\n",
    "pn = [test_prediction[j]==nodales for j in range(len(test_prediction)) if test_classification[j]==nodales]\n",
    "nodales_verdaderos_positivos = sum(pn)/len(pn)\n",
    "print('Nodales prematuros:',str(100*nodales_verdaderos_positivos) + '%')\n"
   ]
  },
  {
   "cell_type": "code",
   "execution_count": 16,
   "metadata": {},
   "outputs": [
    {
     "data": {
      "text/plain": [
       "array([[23045,   179,    20],\n",
       "       [  139,   253,     9],\n",
       "       [    2,     9,    37]])"
      ]
     },
     "execution_count": 16,
     "metadata": {},
     "output_type": "execute_result"
    }
   ],
   "source": [
    "confusion_matrix(test_classification, test_prediction, labels=['N', 'S', 'J'])"
   ]
  },
  {
   "cell_type": "markdown",
   "metadata": {},
   "source": [
    "# Tasa de verdaderos positivos"
   ]
  },
  {
   "cell_type": "code",
   "execution_count": 32,
   "metadata": {},
   "outputs": [
    {
     "name": "stdout",
     "output_type": "stream",
     "text": [
      "hidden layer size: 4\n",
      "hidden layer size: 6\n",
      "hidden layer size: 8\n",
      "hidden layer size: 10\n",
      "hidden layer size: 12\n",
      "hidden layer size: 14\n",
      "hidden layer size: 16\n",
      "Done.\n"
     ]
    }
   ],
   "source": [
    "normales = 'N'\n",
    "s_ventriculares = 'J'\n",
    "nodales = 'S'\n",
    "normal_verdaderos_positivos = []\n",
    "s_ventricular_verdaderos_positivos = []\n",
    "nodales_verdaderos_positivos = []\n",
    "\n",
    "mean_normal_verdaderos_positivos = []\n",
    "mean_s_ventricular_verdaderos_positivos = []\n",
    "mean_nodales_verdaderos_positivos = []\n",
    "\n",
    "std_normal_verdaderos_positivos = []\n",
    "std_s_ventricular_verdaderos_positivos = []\n",
    "std_nodales_verdaderos_positivos = []\n",
    "\n",
    "##\n",
    "normal_verdaderos_negativos = []\n",
    "s_ventricular_verdaderos_negativos = []\n",
    "nodales_verdaderos_negativos = []\n",
    "\n",
    "mean_normal_verdaderos_negativos = []\n",
    "mean_s_ventricular_verdaderos_negativos = []\n",
    "mean_nodales_verdaderos_negativos = []\n",
    "\n",
    "std_normal_verdaderos_negativos = []\n",
    "std_s_ventricular_verdaderos_negativos = []\n",
    "std_nodales_verdaderos_negativos = []\n",
    "##\n",
    "\n",
    "#layer_sizes = list(range(int(components//2)-3, components-6))\n",
    "layer_sizes = [4,6,8,10,12,14,16]\n",
    "for hidden_layer_size in layer_sizes:\n",
    "    print('hidden layer size:', hidden_layer_size)\n",
    "    for it in range(10):\n",
    "        classifier = snn.MLPClassifier(hidden_layer_size, early_stopping=True, validation_fraction=0.1, \n",
    "                                       activation='tanh', learning_rate='adaptive', learning_rate_init=0.001)\n",
    "\n",
    "        classifier.fit(training_data, training_classification)\n",
    "        test_prediction = classifier.predict(test_data)\n",
    "\n",
    "        pnormal = [test_prediction[j]==normales for j in range(len(test_prediction)) if test_classification[j]==normales]\n",
    "        normal_verdaderos_positivos.append(sum(pnormal)/len(pnormal))\n",
    "\n",
    "        psv = [test_prediction[j]==s_ventriculares for j in range(len(test_prediction)) if test_classification[j]==s_ventriculares]\n",
    "        s_ventricular_verdaderos_positivos.append(sum(psv)/len(psv))\n",
    "\n",
    "        pn = [test_prediction[j]==nodales for j in range(len(test_prediction)) if test_classification[j]==nodales]\n",
    "        nodales_verdaderos_positivos.append(sum(pn)/len(pn))\n",
    "        \n",
    "        \n",
    "        vn_normal = [test_prediction[j]!=normales for j in range(len(test_prediction)) if test_classification[j]!=normales]\n",
    "        normal_verdaderos_negativos.append(sum(vn_normal)/len(vn_normal))\n",
    "\n",
    "        vn_sv = [test_prediction[j]!=s_ventriculares for j in range(len(test_prediction)) if test_classification[j]!=s_ventriculares]\n",
    "        s_ventricular_verdaderos_negativos.append(sum(vn_sv)/len(vn_sv))\n",
    "\n",
    "        vn_n = [test_prediction[j]!=nodales for j in range(len(test_prediction)) if test_classification[j]!=nodales]\n",
    "        nodales_verdaderos_negativos.append(sum(vn_n)/len(vn_n))\n",
    "        \n",
    "    mean_normal_verdaderos_positivos.append(100*np.mean(normal_verdaderos_positivos))\n",
    "    mean_s_ventricular_verdaderos_positivos.append(100*np.mean(s_ventricular_verdaderos_positivos))\n",
    "    mean_nodales_verdaderos_positivos.append(100*np.mean(nodales_verdaderos_positivos))\n",
    "    std_normal_verdaderos_positivos.append(100*np.std(normal_verdaderos_positivos))\n",
    "    std_s_ventricular_verdaderos_positivos.append(100*np.std(s_ventricular_verdaderos_positivos))\n",
    "    std_nodales_verdaderos_positivos.append(100*np.std(nodales_verdaderos_positivos))\n",
    "    \n",
    "    mean_normal_verdaderos_negativos.append(100*np.mean(normal_verdaderos_negativos))\n",
    "    mean_s_ventricular_verdaderos_negativos.append(100*np.mean(s_ventricular_verdaderos_negativos))\n",
    "    mean_nodales_verdaderos_negativos.append(100*np.mean(nodales_verdaderos_negativos))\n",
    "    std_normal_verdaderos_negativos.append(100*np.std(normal_verdaderos_negativos))\n",
    "    std_s_ventricular_verdaderos_negativos.append(100*np.std(s_ventricular_verdaderos_negativos))\n",
    "    std_nodales_verdaderos_negativos.append(100*np.std(nodales_verdaderos_negativos))\n",
    "\n",
    "print('Done.')"
   ]
  },
  {
   "cell_type": "code",
   "execution_count": 35,
   "metadata": {},
   "outputs": [
    {
     "data": {
      "image/png": "[encoded data removed]",
      "text/plain": [
       "<matplotlib.figure.Figure at 0x10c8652e8>"
      ]
     },
     "metadata": {},
     "output_type": "display_data"
    }
   ],
   "source": [
    "plt.rcParams['figure.figsize'] = (16.0, 8.0)\n",
    "plt.subplot(2,2,1)\n",
    "plt.plot(layer_sizes, mean_normal_verdaderos_positivos)\n",
    "plt.plot(layer_sizes, mean_s_ventricular_verdaderos_positivos)\n",
    "plt.plot(layer_sizes, mean_nodales_verdaderos_positivos)\n",
    "plt.title('Mean')\n",
    "plt.xlabel('Hidden layer size')\n",
    "plt.ylabel('True positive ratio (%)')\n",
    "\n",
    "plt.subplot(2,2,2)\n",
    "plt.plot(layer_sizes, std_normal_verdaderos_positivos)\n",
    "plt.plot(layer_sizes, std_s_ventricular_verdaderos_positivos)\n",
    "plt.plot(layer_sizes, std_nodales_verdaderos_positivos)\n",
    "plt.title('Standard deviation')\n",
    "plt.xlabel('Hidden layer size')\n",
    "plt.ylabel('True positive ratio (%)')\n",
    "\n",
    "\n",
    "plt.subplot(2,2,3)\n",
    "plt.plot(layer_sizes, mean_normal_verdaderos_negativos)\n",
    "plt.plot(layer_sizes, mean_s_ventricular_verdaderos_negativos)\n",
    "plt.plot(layer_sizes, mean_nodales_verdaderos_negativos)\n",
    "plt.title('Mean')\n",
    "plt.xlabel('Hidden layer size')\n",
    "plt.ylabel('Specificity (%)')\n",
    "\n",
    "plt.subplot(2,2,4)\n",
    "plt.plot(layer_sizes, std_normal_verdaderos_negativos)\n",
    "plt.plot(layer_sizes, std_s_ventricular_verdaderos_negativos)\n",
    "plt.plot(layer_sizes, std_nodales_verdaderos_negativos)\n",
    "plt.title('Standard deviation')\n",
    "plt.xlabel('Hidden layer size')\n",
    "plt.ylabel('Specificity (%)')\n",
    "\n",
    "plt.tight_layout() \n",
    "plt.show()"
   ]
  },
  {
   "cell_type": "code",
   "execution_count": 26,
   "metadata": {},
   "outputs": [
    {
     "name": "stdout",
     "output_type": "stream",
     "text": [
      "SENSIBILIDAD\n",
      "\n",
      "--- Normales ---\n",
      "Valor medio 98.9932885906%\n",
      "Desvio 0.0%\n",
      "\n",
      "--- Supraventriculares prematuros ---\n",
      "Valor medio 79.1666666667%\n",
      "Desvio 0.0%\n",
      "\n",
      "--- Nodales prematuros ---\n",
      "Valor medio 62.3441396509%\n",
      "Desvio 0.0%\n",
      "\n"
     ]
    }
   ],
   "source": [
    "print('SENSIBILIDAD')\n",
    "print('')\n",
    "print('--- Normales ---')\n",
    "print('Valor medio', str(100*np.mean(normal_verdaderos_positivos)) + '%')\n",
    "print('Desvio', str(100*np.std(normal_verdaderos_positivos)) + '%')\n",
    "print('')\n",
    "print('--- Supraventriculares prematuros ---')\n",
    "print('Valor medio', str(100*np.mean(s_ventricular_verdaderos_positivos)) + '%')\n",
    "print('Desvio', str(100*np.std(s_ventricular_verdaderos_positivos)) + '%')\n",
    "print('')\n",
    "print('--- Nodales prematuros ---')\n",
    "print('Valor medio', str(100*np.mean(nodales_verdaderos_positivos)) + '%')\n",
    "print('Desvio', str(100*np.std(nodales_verdaderos_positivos)) + '%')\n",
    "print('')"
   ]
  },
  {
   "cell_type": "code",
   "execution_count": 20,
   "metadata": {},
   "outputs": [
    {
     "name": "stdout",
     "output_type": "stream",
     "text": [
      "--- Normales ---\n",
      "98.99328859060402%\n",
      "\n",
      "--- Supraventriculares prematuros ---\n",
      "79.16666666666666%\n",
      "\n",
      "--- Nodales prematuros ---\n",
      "62.34413965087282%\n",
      "\n"
     ]
    }
   ],
   "source": [
    "print('--- Normales ---')\n",
    "print(str(100*(normal_verdaderos_positivos[-1])) + '%')\n",
    "print('')\n",
    "print('--- Supraventriculares prematuros ---')\n",
    "print(str(100*(s_ventricular_verdaderos_positivos[-1])) + '%')\n",
    "print('')\n",
    "print('--- Nodales prematuros ---')\n",
    "print(str(100*(nodales_verdaderos_positivos[-1])) + '%')\n",
    "print('')"
   ]
  },
  {
   "cell_type": "code",
   "execution_count": 21,
   "metadata": {
    "collapsed": true
   },
   "outputs": [],
   "source": [
    "premature_vs_n_classifier = snn.MLPClassifier(7, early_stopping=True, validation_fraction=0.1, \n",
    "                                                       activation='tanh', learning_rate='adaptive', learning_rate_init=0.001)"
   ]
  },
  {
   "cell_type": "code",
   "execution_count": 22,
   "metadata": {
    "collapsed": true
   },
   "outputs": [],
   "source": [
    "premature_vs_n_classifier.coefs_ = classifier.coefs_\n",
    "premature_vs_n_classifier.n_outputs_ = classifier.n_outputs_\n",
    "premature_vs_n_classifier.n_layers_ = classifier.n_layers_\n",
    "premature_vs_n_classifier.intercepts_ = classifier.intercepts_\n",
    "premature_vs_n_classifier.out_activation_ = classifier.out_activation_\n",
    "premature_vs_n_classifier._label_binarizer = classifier._label_binarizer"
   ]
  },
  {
   "cell_type": "code",
   "execution_count": 23,
   "metadata": {},
   "outputs": [
    {
     "name": "stdout",
     "output_type": "stream",
     "text": [
      "Normales: 98.99328859060402%\n",
      "Supraventriculares prematuros: 79.16666666666666%\n",
      "Nodales prematuros: 62.34413965087282%\n"
     ]
    }
   ],
   "source": [
    "test_prediction = premature_vs_n_classifier.predict(test_data)\n",
    "normales = 'N'\n",
    "s_ventriculares = 'J'\n",
    "nodales = 'S'\n",
    "\n",
    "pnormal = [test_prediction[j]==normales for j in range(len(test_prediction)) if test_classification[j]==normales]\n",
    "normal_verdaderos_positivos = sum(pnormal)/len(pnormal)\n",
    "print('Normales:',str(100*normal_verdaderos_positivos) + '%')\n",
    "\n",
    "psv = [test_prediction[j]==s_ventriculares for j in range(len(test_prediction)) if test_classification[j]==s_ventriculares]\n",
    "s_ventricular_verdaderos_positivos = sum(psv)/len(psv)\n",
    "print('Supraventriculares prematuros:',str(100*s_ventricular_verdaderos_positivos) + '%')\n",
    "\n",
    "pn = [test_prediction[j]==nodales for j in range(len(test_prediction)) if test_classification[j]==nodales]\n",
    "nodales_verdaderos_positivos = sum(pn)/len(pn)\n",
    "print('Nodales prematuros:',str(100*nodales_verdaderos_positivos) + '%')\n"
   ]
  },
  {
   "cell_type": "code",
   "execution_count": 30,
   "metadata": {},
   "outputs": [
    {
     "name": "stdout",
     "output_type": "stream",
     "text": [
      "ESPECIFICIDAD\n",
      "\n",
      "Normales: 68.37416481069042%\n",
      "Supraventriculares prematuros: 99.8266018185663%\n",
      "Nodales prematuros: 99.08981624592134%\n",
      "\n"
     ]
    }
   ],
   "source": [
    "print('ESPECIFICIDAD')\n",
    "print('')\n",
    "vn_normal = [test_prediction[j]!=normales for j in range(len(test_prediction)) if test_classification[j]!=normales]\n",
    "normal_verdaderos_negativos = sum(vn_normal)/len(vn_normal)\n",
    "print('Normales:',str(100*normal_verdaderos_negativos) + '%')\n",
    "\n",
    "vn_sv = [test_prediction[j]!=s_ventriculares for j in range(len(test_prediction)) if test_classification[j]!=s_ventriculares]\n",
    "s_ventricular_verdaderos_negativos = sum(vn_sv)/len(vn_sv)\n",
    "print('Supraventriculares prematuros:',str(100*s_ventricular_verdaderos_negativos) + '%')\n",
    "\n",
    "vn_n = [test_prediction[j]!=nodales for j in range(len(test_prediction)) if test_classification[j]!=nodales]\n",
    "n_verdaderos_negativos = sum(vn_n)/len(vn_n)\n",
    "print('Nodales prematuros:',str(100*n_verdaderos_negativos) + '%')\n",
    "\n",
    "print('')"
   ]
  },
  {
   "cell_type": "code",
   "execution_count": 81,
   "metadata": {},
   "outputs": [
    {
     "data": {
      "text/plain": [
       "array([[23042,   168,    34],\n",
       "       [  135,   252,    14],\n",
       "       [    2,     8,    38]])"
      ]
     },
     "execution_count": 81,
     "metadata": {},
     "output_type": "execute_result"
    }
   ],
   "source": [
    "confusion_matrix(test_classification, test_prediction, labels=['N', 'S', 'J'])"
   ]
  },
  {
   "cell_type": "markdown",
   "metadata": {},
   "source": [
    "El modelo esta basado en:\n",
    "- un window size: 128 samples\n",
    "- filtro pasa-bajos: 35Hz, orden = 12\n",
    "- filtro pasa-altos: 0.5Hz, orden = 8\n",
    "- componentes principales: 20\n",
    "- linear discriminant analysis\n",
    "- entrenamiento --> 1N, 500SV, 60N sobre el 60% del set de datos total.\n",
    "- hidden layer nodes: 7"
   ]
  },
  {
   "cell_type": "code",
   "execution_count": 82,
   "metadata": {
    "collapsed": true
   },
   "outputs": [],
   "source": [
    "filename = '/Users/Javier/Desktop/Redes Neuronales/Algoritmos/premature_vs_n_heartbeat_classifier2.joblib.pkl'\n",
    "_ = joblib.dump(premature_vs_n_classifier, filename, compress=9)"
   ]
  },
  {
   "cell_type": "code",
   "execution_count": 204,
   "metadata": {
    "collapsed": true
   },
   "outputs": [],
   "source": [
    "clf2 = joblib.load(filename)"
   ]
  }
 ],
 "metadata": {
  "kernelspec": {
   "display_name": "Python 3",
   "language": "python",
   "name": "python3"
  },
  "language_info": {
   "codemirror_mode": {
    "name": "ipython",
    "version": 3
   },
   "file_extension": ".py",
   "mimetype": "text/x-python",
   "name": "python",
   "nbconvert_exporter": "python",
   "pygments_lexer": "ipython3",
   "version": "3.6.1"
  }
 },
 "nbformat": 4,
 "nbformat_minor": 2
}
